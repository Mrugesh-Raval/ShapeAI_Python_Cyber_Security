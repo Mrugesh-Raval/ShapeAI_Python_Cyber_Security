{
  "nbformat": 4,
  "nbformat_minor": 0,
  "metadata": {
    "colab": {
      "name": "weather_request",
      "provenance": [],
      "collapsed_sections": []
    },
    "kernelspec": {
      "name": "python3",
      "display_name": "Python 3"
    },
    "language_info": {
      "name": "python"
    }
  },
  "cells": [
    {
      "cell_type": "code",
      "metadata": {
        "colab": {
          "base_uri": "https://localhost:8080/"
        },
        "id": "sob81RaycdM2",
        "outputId": "9afaf04c-e6b6-48fa-dd3e-170ecf424dc8"
      },
      "source": [
        "import requests\n",
        "#import os\n",
        "from datetime import datetime\n",
        "\n",
        "api_key = '38f40f08816c221d5ae3cb2f5e09b8c2' # my_api_key\n",
        "location = input(\"Enter the city name: \")    # anand\n",
        "\n",
        "complete_api_link = \"https://api.openweathermap.org/data/2.5/weather?q=\"+location+\"&appid=\"+api_key\n",
        "api_link = requests.get(complete_api_link)\n",
        "api_data = api_link.json()\n",
        "\n",
        "#create variables to store and display data\n",
        "temp_city = ((api_data['main']['temp']) - 273.15)\n",
        "weather_desc = api_data['weather'][0]['description']\n",
        "hmdt = api_data['main']['humidity']\n",
        "wind_spd = api_data['wind']['speed']\n",
        "date_time = datetime.now().strftime(\"%d %b %Y | %I:%M:%S %p\")\n",
        "\n",
        "print (\"-------------------------------------------------------------\")\n",
        "print (\"Weather Stats for - {}  || {}\".format(location.upper(), date_time))\n",
        "print (\"-------------------------------------------------------------\")\n",
        "\n",
        "print (\"Current temperature is: {:.2f} deg C\".format(temp_city))\n",
        "print (\"Current weather desc  :\",weather_desc)\n",
        "print (\"Current Humidity      :\",hmdt, '%')\n",
        "print (\"Current wind speed    :\",wind_spd ,'kmph')"
      ],
      "execution_count": 17,
      "outputs": [
        {
          "output_type": "stream",
          "text": [
            "Enter the city name: Anand\n",
            "-------------------------------------------------------------\n",
            "Weather Stats for - ANAND  || 23 Jun 2021 | 12:37:58 PM\n",
            "-------------------------------------------------------------\n",
            "Current temperature is: 33.00 deg C\n",
            "Current weather desc  : few clouds\n",
            "Current Humidity      : 58 %\n",
            "Current wind speed    : 4.12 kmph\n"
          ],
          "name": "stdout"
        }
      ]
    },
    {
      "cell_type": "code",
      "metadata": {
        "id": "EaNUg-3Me7jl"
      },
      "source": [
        "import requests\n",
        "\n",
        "r = requests.get('https://imgs.xkcd.com/comics/python.png')\n",
        "#print(r.content)\n",
        "\n",
        "\n",
        "with open('comic.txt','wb') as f:   # sorry, i have make with .png file but the problam is...i really dont know that where this file are saved and where flie located...\n",
        "   f.write(r.content)\n"
      ],
      "execution_count": 19,
      "outputs": []
    }
  ]
}